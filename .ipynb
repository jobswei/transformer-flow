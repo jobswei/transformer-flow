{
 "cells": [
  {
   "cell_type": "code",
   "execution_count": null,
   "metadata": {},
   "outputs": [],
   "source": [
    "s=\"\"\"\n",
    "100.0\n",
    "99.6064\n",
    "99.3618\n",
    "99.1974\n",
    "99.7494\n",
    "100.0\n",
    "100.0\n",
    "100.0\n",
    "99.6727\n",
    "98.4218\n",
    "100.0\n",
    "100.0\n",
    "100.0\n",
    "99.9123\n",
    "99.9475\n",
    "\"\"\"\n",
    "lis=s.split(\"\\n\")[1:-1]\n",
    "sum([round(float(i),4) for i in lis])/15"
   ]
  },
  {
   "cell_type": "code",
   "execution_count": null,
   "metadata": {},
   "outputs": [],
   "source": [
    "lis=s.split(\"\\n\")[1:-1]\n",
    "sum([round(float(i),1) for i in lis])/15"
   ]
  },
  {
   "cell_type": "code",
   "execution_count": null,
   "metadata": {},
   "outputs": [],
   "source": [
    "import random\n",
    "def test():\n",
    "    a=random.random()\n",
    "    b=random.random()\n",
    "    res1=(a+b)/2\n",
    "    res1=round(res1,1)\n",
    "    res2=(round(a,1)+round(b,1))/2\n",
    "    res2=round(res2,1)\n",
    "    return res1,res2\n",
    "\n",
    "for i in range(100):\n",
    "    ok=test()\n",
    "    if ok:\n",
    "        print(ok)"
   ]
  }
 ],
 "metadata": {
  "language_info": {
   "name": "python"
  }
 },
 "nbformat": 4,
 "nbformat_minor": 2
}
